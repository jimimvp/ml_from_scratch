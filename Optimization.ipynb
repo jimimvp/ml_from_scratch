{
 "cells": [
  {
   "cell_type": "code",
   "execution_count": 100,
   "metadata": {},
   "outputs": [],
   "source": [
    "import matplotlib.pyplot as plt\n",
    "%matplotlib inline"
   ]
  },
  {
   "cell_type": "markdown",
   "metadata": {},
   "source": [
    "# Newton-Raphson"
   ]
  },
  {
   "cell_type": "code",
   "execution_count": 90,
   "metadata": {},
   "outputs": [
    {
     "data": {
      "text/plain": [
       "array([[-1.05092661, -1.08230369]])"
      ]
     },
     "execution_count": 90,
     "metadata": {},
     "output_type": "execute_result"
    }
   ],
   "source": [
    "import numpy as np\n",
    "np.random.seed(222)\n",
    "\n",
    "X = np.random.normal(0,2, (10, 2))\n",
    "f_target = lambda x: x[0]+2*x[1]\n",
    "\n",
    "Y = np.apply_along_axis(arr=X, axis=1, func1d=f_target).reshape(-1,1)\n",
    "\n",
    "W = np.random.normal(0,2,len(X[0])).reshape(1,-1)\n",
    "\n",
    "\n",
    "\n",
    "f = lambda X, W: np.dot(X, W.T)\n",
    "\n",
    "loss = lambda Y,X,W: np.square(Y-f(X,W))/2\n",
    "loss_der = lambda Y,X,W: (Y-f(X,W))*X\n",
    "\n",
    "# optimize using newton-rhapson\n",
    "lr=1e-4\n",
    "for i in range(1000):\n",
    "    W = W + np.mean(loss(Y,X,W)/(loss_der(Y,X,W)), axis=0)*lr\n",
    "\n",
    "\n",
    "W"
   ]
  },
  {
   "cell_type": "markdown",
   "metadata": {},
   "source": [
    "# Linear Regression"
   ]
  },
  {
   "cell_type": "code",
   "execution_count": 113,
   "metadata": {},
   "outputs": [
    {
     "data": {
      "text/plain": [
       "<matplotlib.legend.Legend at 0x1180a7400>"
      ]
     },
     "execution_count": 113,
     "metadata": {},
     "output_type": "execute_result"
    },
    {
     "data": {
      "image/png": "[encoded data removed]",
      "text/plain": [
       "<Figure size 432x288 with 1 Axes>"
      ]
     },
     "metadata": {
      "needs_background": "light"
     },
     "output_type": "display_data"
    }
   ],
   "source": [
    "import numpy as np\n",
    "np.random.seed(222)\n",
    "\n",
    "NUM_POINTS=20\n",
    "\n",
    "noise = 0\n",
    "noise = np.random.normal(0,2, (NUM_POINTS,1))\n",
    "\n",
    "data = np.random.normal(0,2, (NUM_POINTS, 1))\n",
    "X = data.copy()\n",
    "f_target = lambda x: x[0]+3\n",
    "\n",
    "bias = True\n",
    "\n",
    "Y = np.apply_along_axis(arr=X, axis=1, func1d=f_target).reshape(-1,1) + noise\n",
    "\n",
    "if bias:\n",
    "    X = np.hstack([X, np.ones((len(X), 1))])\n",
    "    \n",
    "W = np.random.normal(0,2,len(X[0])).reshape(1,-1)\n",
    "\n",
    "f = lambda X, W: np.dot(X, W.T)\n",
    "\n",
    "loss = lambda Y,X,W: np.square(Y-f(X,W))/2\n",
    "loss_der = lambda Y,X,W: (Y-f(X,W))*X\n",
    "\n",
    "# optimize using newton-rhapson\n",
    "lr=1e-3\n",
    "for i in range(5000):\n",
    "    W = W + np.mean(loss_der(Y,X,W), axis=0)*lr\n",
    "\n",
    "    \n",
    "plt.scatter(data, Y, label='data')\n",
    "plt.plot(data, f(X,W), c='red', alpha=.6, label='regression_line')\n",
    "plt.xlabel('X')\n",
    "plt.xlabel('Y')\n",
    "plt.legend()\n",
    "\n"
   ]
  },
  {
   "cell_type": "markdown",
   "metadata": {},
   "source": [
    "# Logistic Regression Binomial"
   ]
  },
  {
   "cell_type": "code",
   "execution_count": 204,
   "metadata": {},
   "outputs": [
    {
     "name": "stdout",
     "output_type": "stream",
     "text": [
      "Loss: 0.097275672995190174\r"
     ]
    },
    {
     "data": {
      "text/plain": [
       "<matplotlib.collections.PathCollection at 0x1190f6b70>"
      ]
     },
     "execution_count": 204,
     "metadata": {},
     "output_type": "execute_result"
    },
    {
     "data": {
      "image/png": "[encoded data removed]",
      "text/plain": [
       "<Figure size 432x288 with 2 Axes>"
      ]
     },
     "metadata": {
      "needs_background": "light"
     },
     "output_type": "display_data"
    }
   ],
   "source": [
    "import numpy as np\n",
    "np.random.seed(222)\n",
    "\n",
    "NUM_POINTS = 10\n",
    "NUM_CLASSES = 2\n",
    "\n",
    "noise = 0\n",
    "noise = np.random.normal(0,2, (NUM_POINTS,1))\n",
    "\n",
    "data = np.random.normal(0,2, (NUM_POINTS, 2))\n",
    "X = data.copy()\n",
    "f_target = lambda x: x[0]\n",
    "\n",
    "bias = True\n",
    "\n",
    "Y = (np.apply_along_axis(arr=X, axis=1, func1d=f_target).reshape(-1,1))>0\n",
    "Y = Y.astype(np.int32)\n",
    "\n",
    "if bias:\n",
    "    X = np.hstack([X, np.ones((len(X), 1))])\n",
    "    \n",
    "W = np.random.normal(0,2,(1, len(X[0])))\n",
    "\n",
    "f = lambda X, W: np.dot(X, W.T)\n",
    "\n",
    "def sigmoid(X, W):\n",
    "    y = X@W.T\n",
    "    y = np.exp(y)\n",
    "    y = 1/(1+y)\n",
    "    return y\n",
    "    \n",
    "def cross_entropy(Y, Y_, p):\n",
    "    return -np.sum((Y!=Y_)*np.log(p))\n",
    "\n",
    "def grad_sigmoid(Y,X, W):\n",
    "    \n",
    "    g = sigmoid(X,W)\n",
    "    g = g*(1-g)\n",
    "    return g\n",
    "    \n",
    "def grad(Y,X,W):\n",
    "    sig = sigmoid(X,W)\n",
    "    g = Y-sig\n",
    "    return g.T@X\n",
    "\n",
    "\n",
    "lr=1e-4\n",
    "for i in range(10000):\n",
    "    for j in range(0, len(X), 2):\n",
    "        p = sigmoid(X[j:j+2],W)        \n",
    "        Y_ = (p>0.5).astype(np.int32)\n",
    "        loss = cross_entropy(Y[j:j+2],Y_, p)\n",
    "        g = grad(Y[j:j+2],X[j:j+2],W)\n",
    "        W -= lr*g\n",
    "    if i%1000 == 0:\n",
    "        print(f'Loss: {np.sum(loss)}', end='\\r')\n",
    "\n",
    "\n",
    "\n",
    "        \n",
    "# Plot the results\n",
    "\n",
    "Y_ = (sigmoid(X,W)>.5).astype(np.int32)\n",
    "c1, c2 = data[Y.flatten()==1], data[Y.flatten()!=1]\n",
    "c1_, c2_ = data[Y_.flatten()==1], data[Y_.flatten()!=1]\n",
    "\n",
    "\n",
    "plt.subplot(211)\n",
    "plt.title('True labels')\n",
    "plt.scatter(c1[:,0], c1[:,1])\n",
    "plt.scatter(c2[:,0], c2[:,1])\n",
    "\n",
    "plt.subplot(212)\n",
    "plt.title('Predicted')\n",
    "plt.scatter(c1_[:,0], c1_[:,1])\n",
    "plt.scatter(c2_[:,0], c2_[:,1])"
   ]
  },
  {
   "cell_type": "markdown",
   "metadata": {},
   "source": [
    "# Logistic Regression 2"
   ]
  },
  {
   "cell_type": "code",
   "execution_count": 199,
   "metadata": {},
   "outputs": [
    {
     "name": "stdout",
     "output_type": "stream",
     "text": [
      "Loss: 0.0870745551082596\r"
     ]
    },
    {
     "data": {
      "text/plain": [
       "<matplotlib.collections.PathCollection at 0x118eeb978>"
      ]
     },
     "execution_count": 199,
     "metadata": {},
     "output_type": "execute_result"
    },
    {
     "data": {
      "image/png": "[encoded data removed]",
      "text/plain": [
       "<Figure size 432x288 with 2 Axes>"
      ]
     },
     "metadata": {
      "needs_background": "light"
     },
     "output_type": "display_data"
    }
   ],
   "source": [
    "import numpy as np\n",
    "np.random.seed(222)\n",
    "\n",
    "NUM_POINTS = 10\n",
    "NUM_CLASSES = 2\n",
    "\n",
    "noise = 0\n",
    "noise = np.random.normal(0,2, (NUM_POINTS,1))\n",
    "\n",
    "data = np.random.normal(0,2, (NUM_POINTS, 2))\n",
    "X = data.copy()\n",
    "f_target = lambda x: x[0]\n",
    "\n",
    "bias = True\n",
    "\n",
    "Y = (np.apply_along_axis(arr=X, axis=1, func1d=f_target).reshape(-1,1))>0\n",
    "Y = Y.astype(np.int32)\n",
    "\n",
    "if bias:\n",
    "    X = np.hstack([X, np.ones((len(X), 1))])\n",
    "    \n",
    "W = np.random.normal(0,2,(NUM_CLASSES, len(X[0])))\n",
    "\n",
    "f = lambda X, W: np.dot(X, W.T)\n",
    "\n",
    "def softmax(X,W):\n",
    "    y = np.exp(X@W.T)\n",
    "    y = y/np.sum(y, axis=1).reshape(-1,1)\n",
    "    return y\n",
    "\n",
    "def cross_entropy(Y, Y_, p):\n",
    "    return -np.sum((Y!=Y_)*np.log(p))\n",
    "    \n",
    "\n",
    "def grad_softmax(Y,X, W):\n",
    "    \n",
    "    g = softmax(X,W)\n",
    "    g[np.arange(Y.shape[0]), Y]-=1\n",
    "    return g\n",
    "    \n",
    "def grad(Y,X,W):\n",
    "    g_soft = grad_softmax(Y,X,W)\n",
    "    g=g_soft.T@X\n",
    "    # divide by batch size\n",
    "    g/=Y.shape[0]\n",
    "    return g\n",
    "\n",
    "\n",
    "lr=1e-4\n",
    "for i in range(10000):\n",
    "    for j in range(0, len(X), 2):\n",
    "        p = softmax(X[j:j+2],W)\n",
    "        Y_ = np.argmax(p, axis=1)[:, None]\n",
    "        loss = cross_entropy(Y[j:j+2],Y_, p)\n",
    "        g = grad(Y[j:j+2],X[j:j+2],W)\n",
    "        W -= lr*g\n",
    "    if i%1000 == 0:\n",
    "        print(f'Loss: {np.sum(loss)}', end='\\r')\n",
    "\n",
    "\n",
    "\n",
    "        \n",
    "# Plot the results\n",
    "\n",
    "Y_ = np.argmax(softmax(X,W), axis=1)[:, None]\n",
    "\n",
    "c1, c2 = data[Y.flatten()==1], data[Y.flatten()!=1]\n",
    "c1_, c2_ = data[Y_.flatten()==1], data[Y_.flatten()!=1]\n",
    "\n",
    "\n",
    "plt.subplot(211)\n",
    "plt.title('True labels')\n",
    "plt.scatter(c1[:,0], c1[:,1])\n",
    "plt.scatter(c2[:,0], c2[:,1])\n",
    "\n",
    "plt.subplot(212)\n",
    "plt.title('Predicted')\n",
    "plt.scatter(c1_[:,0], c1_[:,1])\n",
    "plt.scatter(c2_[:,0], c2_[:,1])"
   ]
  }
 ],
 "metadata": {
  "kernelspec": {
   "display_name": "Python 3",
   "language": "python",
   "name": "python3"
  },
  "language_info": {
   "codemirror_mode": {
    "name": "ipython",
    "version": 3
   },
   "file_extension": ".py",
   "mimetype": "text/x-python",
   "name": "python",
   "nbconvert_exporter": "python",
   "pygments_lexer": "ipython3",
   "version": "3.6.6"
  }
 },
 "nbformat": 4,
 "nbformat_minor": 2
}
