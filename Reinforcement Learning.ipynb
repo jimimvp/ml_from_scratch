{
 "cells": [
  {
   "cell_type": "code",
   "execution_count": 2,
   "metadata": {},
   "outputs": [],
   "source": [
    "import numpy as np\n",
    "import matplotlib.pyplot as plt\n",
    "%matplotlib inline"
   ]
  },
  {
   "cell_type": "code",
   "execution_count": 54,
   "metadata": {},
   "outputs": [],
   "source": [
    "def norm(x):\n",
    "    return np.sqrt(np.sum(x**2))\n",
    "\n",
    "# stationary multi-armed bandit\n",
    "class BanditEnv:\n",
    "    \n",
    "    \n",
    "    def __init__(self, n_bandits, prob_dist=None):\n",
    "        if prob_dist is None:\n",
    "            prob_dist = np.random.rand(n_bandits)\n",
    "            self.prob_dist = prob_dist/np.sum(prob_dist)\n",
    "        else:\n",
    "            self.prob_dist=prob_dist\n",
    "        assert np.isclose(np.sum(self.prob_dist), 1.0), np.sum(prob_dist)\n",
    "        \n",
    "        self.n_bandits = n_bandits\n",
    "        self.num_actions = n_bandits\n",
    "    def step(self, a):\n",
    "        bandit = np.random.choice(np.arange(self.n_bandits), p=self.prob_dist)\n",
    "        return None, float(bandit==a), None, None\n",
    "\n",
    "    \n",
    "\n",
    "# non-stationary multi-armed bandit\n",
    "class BanditEnvNonstationary:\n",
    "      \n",
    "    def __init__(self, n_bandits, walk_mu=0, walk_std=0.01, max_std=3.0):\n",
    "        \n",
    "        self.walk_mu = walk_mu\n",
    "        self.walk_std = walk_std\n",
    "        \n",
    "        self.reward_mu = np.random.rand(n_bandits)\n",
    "        self.reward_std = np.random.rand(n_bandits)*3\n",
    "              \n",
    "        self.n_bandits = n_bandits\n",
    "        self.num_actions = n_bandits\n",
    "        \n",
    "    def step(self, a):\n",
    "        \n",
    "        r = np.random.normal(self.reward_mu[a], self.reward_std[a])\n",
    "        \n",
    "        # random walk reward dist\n",
    "        \n",
    "        self.reward_mu += np.random.normal(0, self.walk_std, size=self.n_bandits)\n",
    "        \n",
    "        return None, r, None, None\n",
    "\n",
    "\n",
    "class RandomMDP:\n",
    "    \n",
    "    def __init__(self, num_states, num_actions):\n",
    "        self.num_actions = num_actions\n",
    "        self.num_states = num_states\n",
    "       \n",
    "        ttable = np.random.rand(num_states*num_states*num_actions).reshape((num_states, num_actions, num_states))\n",
    "        row_sum = np.sum(ttable, axis=2)[:, :, None]\n",
    "        # normalize table\n",
    "        self.ttable = ttable/row_sum\n",
    "        \n",
    "        # random transitions rewards\n",
    "        self.rewards = np.random.normal(0,1,size=(num_states, num_states))\n",
    "        self.s_current = 0\n",
    "        \n",
    "    def step(self, a):\n",
    "        assert a < self.num_actions\n",
    "        \n",
    "        s_next = np.random.choice(np.arange(self.num_states), p=self.ttable[self.s_current, a])\n",
    "        r = self.rewards[self.s_current,  s_next]\n",
    "        self.s_current = s_next\n",
    "        return s_next, r, False, {}\n",
    "        \n",
    "    def reset(self):\n",
    "        # random initial state\n",
    "        self.s_current = np.random.randint(self.num_states)\n",
    "        return self.s_current\n",
    "    \n"
   ]
  },
  {
   "cell_type": "markdown",
   "metadata": {},
   "source": [
    "# Q Learning Multi-armed Bandit"
   ]
  },
  {
   "cell_type": "code",
   "execution_count": 92,
   "metadata": {},
   "outputs": [
    {
     "data": {
      "text/plain": [
       "Text(0, 0.5, 'Running mean reward')"
      ]
     },
     "execution_count": 92,
     "metadata": {},
     "output_type": "execute_result"
    },
    {
     "data": {
      "image/png": "[encoded data removed]",
      "text/plain": [
       "<Figure size 432x288 with 1 Axes>"
      ]
     },
     "metadata": {
      "needs_background": "light"
     },
     "output_type": "display_data"
    }
   ],
   "source": [
    "# Q learning\n",
    "from collections import deque\n",
    "\n",
    "NUM_ACTIONS = 2\n",
    "NUM_STATES = 1\n",
    "env = BanditEnvNonstationary(NUM_ACTIONS)\n",
    "#env = BanditEnv(NUM_ACTIONS)\n",
    "\n",
    "q_table = np.zeros((NUM_STATES, NUM_ACTIONS), np.float32)-1\n",
    "\n",
    "rewards = []\n",
    "rewards_buff = deque(maxlen=100)\n",
    "epsilon = .1\n",
    "gamma = .99\n",
    "lr = 1e-2\n",
    "NUM_STEPS = 70000\n",
    "ACTIONS = np.arange(NUM_ACTIONS)\n",
    "o = 0\n",
    "for i in range(NUM_STEPS):\n",
    "    \n",
    "    if np.random.rand() < epsilon:\n",
    "        # random action\n",
    "        a = np.random.choice(ACTIONS)\n",
    "        _,r,_,_ = env.step(a)\n",
    "    else:\n",
    "        a = np.argmax(q_table[o])\n",
    "        _,r,_,_  = env.step(a)\n",
    "    \n",
    "    # Q update\n",
    "    qt1 = q_table[o,a]\n",
    "    qt2 = q_table[o, np.argmax(q_table[o])]\n",
    "    q_table[o, a] = qt1 + lr*(r + qt2 - qt1)\n",
    "    \n",
    "    \n",
    "    \n",
    "    rewards_buff.append(r)\n",
    "    rewards.append(np.mean(rewards_buff))\n",
    "\n",
    "plt.title('Performance non-stationary bandit')\n",
    "plt.plot(rewards)\n",
    "plt.xlabel('Step')\n",
    "plt.ylabel('Running mean reward')\n"
   ]
  },
  {
   "cell_type": "markdown",
   "metadata": {},
   "source": [
    "# Policy Iteration"
   ]
  },
  {
   "cell_type": "code",
   "execution_count": 80,
   "metadata": {},
   "outputs": [],
   "source": [
    "NUM_STATES = 30\n",
    "NUM_ACTIONS = 4\n",
    "\n",
    "\n",
    "class DeterministicPolicy:\n",
    "    \n",
    "    def __init__(self, num_states, num_actions):\n",
    "        self.state_actions = np.random.randint(num_actions, size=num_states)\n",
    "    def __call__(self, s):\n",
    "        return self.state_actions[s]\n",
    "    \n",
    "class Policy:\n",
    "    \n",
    "    def __init__(self, num_states, num_actions):\n",
    "        # uniform at beginning\n",
    "        self.act_dist = np.ones((num_states, num_actions))*1./num_actions\n",
    "        self.num_states = num_states\n",
    "        self.num_actions = num_actions\n",
    "    \n",
    "    def __call__(self, state):\n",
    "        return np.random.choice(np.arange(self.num_actions), p=self.act_dist[state])\n",
    "    \n",
    "    def prob(self, state, action):\n",
    "        return self.act_dist[state, action]\n",
    "    \n",
    "class Value:\n",
    "    def __init__(self, num_states):\n",
    "        self.vtable = np.zeros(num_states)\n",
    "    \n",
    "    def __call__(self, s):\n",
    "        return self.vtable[s]\n",
    "        \n",
    "\n",
    "    \n",
    "def policy_evaluation(policy, value_func, states, \n",
    "                      ttable, reward_table, theta=.01,gamma=.99):\n",
    "    \"\"\"\n",
    "        Current assumption is that the reward for a transition is deterministic, but\n",
    "        transitions based on s,a are not.\n",
    "        TODO make it part of value function itself\n",
    "    \"\"\"\n",
    "    print('Policy Evaluation...')\n",
    "    max_iterations = 1000\n",
    "    for i in range(max_iterations):\n",
    "        delta = 0\n",
    "        for s in states:\n",
    "            v = value_func(s)\n",
    "            v_new = 0\n",
    "            a = policy(s)\n",
    "            for s_ in states:\n",
    "                v_new += ttable[s, a, s_]*(reward_table[s,s_]+gamma*value_func(s_))\n",
    "            value_func.vtable[s] = v_new\n",
    "            \n",
    "            delta = max(delta, abs(v-v_new))\n",
    "        if delta < theta:\n",
    "            break\n",
    "    \n",
    "    return value_func\n",
    "            \n",
    "def policy_improvement(policy, value_func, actions, states, \n",
    "                       reward_table, ttable, gamma=.99):\n",
    "    print('Policy improvement...')\n",
    "    policy_stable = True\n",
    "    for s in states:\n",
    "        old_action = policy(s)\n",
    "        action_values = np.zeros(len(actions))\n",
    "        for s_ in states:\n",
    "            for a in actions:\n",
    "                action_values[a] += ttable[s, a, s_]*(reward_table[s,s_] + gamma*value_func(s_))\n",
    "        policy.state_actions[s] = np.argmax(action_values)\n",
    "        policy_stable = policy.state_actions[s] == old_action\n",
    "    return policy_stable\n",
    "\n",
    "    \n"
   ]
  },
  {
   "cell_type": "code",
   "execution_count": 81,
   "metadata": {},
   "outputs": [
    {
     "name": "stdout",
     "output_type": "stream",
     "text": [
      "Policy Evaluation...\n",
      "Policy improvement...\n",
      "Policy Evaluation...\n",
      "Policy improvement...\n",
      "Finished\n"
     ]
    }
   ],
   "source": [
    "# testing\n",
    "env = RandomMDP(100, 4)\n",
    "STATES = np.arange(env.num_states)\n",
    "ACTIONS = np.arange(env.num_actions)\n",
    "\n",
    "policy = DeterministicPolicy(env.num_states, env.num_actions)\n",
    "value_func = Value(env.num_states)\n",
    "\n",
    "\n",
    "theta = 0.0001\n",
    "for i in range(1000):\n",
    "    \n",
    "    # 1. policy evaluation\n",
    "    value_func = policy_evaluation(policy, value_func, STATES,env.ttable, \n",
    "                                   env.rewards, theta=theta)\n",
    "    # 2. policy improvement\n",
    "    policy_stable = policy_improvement(policy, value_func, ACTIONS, STATES, env.rewards, env.ttable)\n",
    "    \n",
    "    if policy_stable:\n",
    "        break\n",
    "if not policy_stable:\n",
    "    print('Failed')\n",
    "else:\n",
    "    print('Finished')\n",
    "    "
   ]
  },
  {
   "cell_type": "code",
   "execution_count": 84,
   "metadata": {},
   "outputs": [
    {
     "data": {
      "text/plain": [
       "(683.9576080331981, 2509.4728178473697)"
      ]
     },
     "execution_count": 84,
     "metadata": {},
     "output_type": "execute_result"
    }
   ],
   "source": [
    "random_policy = lambda s: np.random.randint(env.num_actions)\n",
    "\n",
    "def run_policy(policy, env, num_epochs=200):\n",
    "    \n",
    "    epoch_rewards = np.zeros(num_epochs)\n",
    "    for e in range(num_epochs):\n",
    "        s = env.reset()\n",
    "        for i in range(200):\n",
    "            s, r, d, _ = env.step(policy(s))\n",
    "            epoch_rewards[e]+=r\n",
    "    \n",
    "    return np.sum(epoch_rewards)\n",
    "\n",
    "random_acc = run_policy(random_policy, env)\n",
    "opt_acc = run_policy(policy, env)\n",
    "\n",
    "random_acc, opt_acc"
   ]
  }
 ],
 "metadata": {
  "kernelspec": {
   "display_name": "Python 3",
   "language": "python",
   "name": "python3"
  },
  "language_info": {
   "codemirror_mode": {
    "name": "ipython",
    "version": 3
   },
   "file_extension": ".py",
   "mimetype": "text/x-python",
   "name": "python",
   "nbconvert_exporter": "python",
   "pygments_lexer": "ipython3",
   "version": "3.6.6"
  }
 },
 "nbformat": 4,
 "nbformat_minor": 2
}
