{
 "cells": [
  {
   "cell_type": "markdown",
   "metadata": {},
   "source": [
    "# Q learning"
   ]
  },
  {
   "cell_type": "code",
   "execution_count": 26,
   "metadata": {},
   "outputs": [],
   "source": [
    "import numpy as np\n",
    "import matplotlib.pyplot as plt\n",
    "%matplotlib inline"
   ]
  },
  {
   "cell_type": "code",
   "execution_count": 33,
   "metadata": {},
   "outputs": [],
   "source": [
    "def norm(x):\n",
    "    return np.sqrt(np.sum(x**2))\n",
    "class BanditEnv:\n",
    "    \n",
    "    \n",
    "    def __init__(self, n_bandits, prob_dist=None):\n",
    "        if prob_dist is None:\n",
    "            prob_dist = np.random.rand(n_bandits)\n",
    "            self.prob_dist = prob_dist/np.sum(prob_dist)\n",
    "        else:\n",
    "            self.prob_dist=prob_dist\n",
    "        assert np.isclose(np.sum(self.prob_dist), 1.0), np.sum(prob_dist)\n",
    "        \n",
    "        self.n_bandits = n_bandits\n",
    "        self.num_actions = n_bandits\n",
    "    def step(self, a):\n",
    "        bandit = np.random.choice(np.arange(self.n_bandits), p=self.prob_dist)\n",
    "        return None, float(bandit==a), None, None\n",
    "\n",
    "class RandomMDP:\n",
    "    pass\n",
    "    \n",
    "NUM_ACTIONS = 2\n",
    "NUM_STATES = 1\n",
    "env = BanditEnv(NUM_ACTIONS)"
   ]
  },
  {
   "cell_type": "code",
   "execution_count": 76,
   "metadata": {},
   "outputs": [
    {
     "data": {
      "text/plain": [
       "[<matplotlib.lines.Line2D at 0x11875fc18>]"
      ]
     },
     "execution_count": 76,
     "metadata": {},
     "output_type": "execute_result"
    },
    {
     "data": {
      "image/png": "[encoded data removed]",
      "text/plain": [
       "<Figure size 432x288 with 1 Axes>"
      ]
     },
     "metadata": {
      "needs_background": "light"
     },
     "output_type": "display_data"
    }
   ],
   "source": [
    "# Q learning\n",
    "from collections import deque\n",
    "\n",
    "q_table = np.zeros((NUM_STATES, NUM_ACTIONS), np.float32)-1\n",
    "\n",
    "rewards = []\n",
    "rewards_buff = deque(maxlen=100)\n",
    "epsilon = .1\n",
    "gamma = .2\n",
    "lr = 1e-6\n",
    "NUM_STEPS = 1000\n",
    "ACTIONS = np.arange(NUM_ACTIONS)\n",
    "o = 0\n",
    "for i in range(NUM_STEPS):\n",
    "    \n",
    "    if np.random.rand() < epsilon:\n",
    "        # random action\n",
    "        a = np.random.choice(ACTIONS)\n",
    "        _,r,_,_ = env.step(a)\n",
    "    else:\n",
    "        a = np.argmax(q_table[o])\n",
    "        _,r,_,_  = env.step(a)\n",
    "    \n",
    "    # Q update\n",
    "    qt1 = q_table[o,a]\n",
    "    qt2 = q_table[o, np.argmax(q_table[o])]\n",
    "    q_table[o, a] = qt1 + lr*(r + qt2 - qt1)\n",
    "    \n",
    "    \n",
    "    \n",
    "    rewards_buff.append(r)\n",
    "    rewards.append(np.mean(rewards_buff))\n",
    "\n",
    "plt.plot(rewards)\n"
   ]
  },
  {
   "cell_type": "code",
   "execution_count": 88,
   "metadata": {},
   "outputs": [
    {
     "data": {
      "text/plain": [
       "array([0.96224723, 0.03775277])"
      ]
     },
     "execution_count": 88,
     "metadata": {},
     "output_type": "execute_result"
    }
   ],
   "source": [
    "env.prob_dist"
   ]
  }
 ],
 "metadata": {
  "kernelspec": {
   "display_name": "Python 3",
   "language": "python",
   "name": "python3"
  },
  "language_info": {
   "codemirror_mode": {
    "name": "ipython",
    "version": 3
   },
   "file_extension": ".py",
   "mimetype": "text/x-python",
   "name": "python",
   "nbconvert_exporter": "python",
   "pygments_lexer": "ipython3",
   "version": "3.6.6"
  }
 },
 "nbformat": 4,
 "nbformat_minor": 2
}
